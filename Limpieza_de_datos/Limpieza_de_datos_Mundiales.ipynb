{
  "nbformat": 4,
  "nbformat_minor": 0,
  "metadata": {
    "colab": {
      "provenance": []
    },
    "kernelspec": {
      "name": "python3",
      "display_name": "Python 3"
    },
    "language_info": {
      "name": "python"
    }
  },
  "cells": [
    {
      "cell_type": "code",
      "execution_count": null,
      "metadata": {
        "id": "dNsB4g4mwpgD"
      },
      "outputs": [],
      "source": [
        "import pandas as pd"
      ]
    },
    {
      "cell_type": "markdown",
      "source": [
        "***Urls de los archivos csv***"
      ],
      "metadata": {
        "id": "LbcxDu0nDXMq"
      }
    },
    {
      "cell_type": "code",
      "source": [
        "# url archivo fifa_worldcup_fixture.csv\n",
        "url_fwf = 'http://drive.google.com/uc?export=view&id=1S3tm49ZhcqE97D5oKVECB9BMrNelMN73'\n",
        "# url archivo fifa_worldcup_matches.csv\n",
        "url_fwm = 'http://drive.google.com/uc?export=view&id=1wFenvq147powDWsS34pQvSi82xNOjfRJ'\n",
        "# url archivo fifa_worldcup_missing_data.csv\n",
        "url_fwmd = 'http://drive.google.com/uc?export=view&id=1r0nLoIRdXyKYOGDBMMGHMV3A24sD1oVf'"
      ],
      "metadata": {
        "id": "PVOefh2gDXkh"
      },
      "execution_count": null,
      "outputs": []
    },
    {
      "cell_type": "markdown",
      "source": [
        "***Guardando los Datos en Dataframes***"
      ],
      "metadata": {
        "id": "vIOW3UboG0RZ"
      }
    },
    {
      "cell_type": "code",
      "source": [
        "# contiene los resultados de los partidos del mundial desde 1930-2018\n",
        "df_fifa_worldcup_matches = pd.read_csv(url_fwm)\n",
        "# contiene los datos faltantes de los partidos del anterior dataframe\n",
        "df_fifa_worldcup_missing = pd.read_csv(url_fwmd)\n",
        "# contiene todos los partidos que se van a jugar en el mundial 2022\n",
        "df_fifa_worldcup_fixture = pd.read_csv(url_fwf)\n"
      ],
      "metadata": {
        "id": "KJ70lStTG1CT"
      },
      "execution_count": null,
      "outputs": []
    },
    {
      "cell_type": "markdown",
      "source": [
        "***Limpiando los Datos del Df Fifa Worldcup Fixture.***\n",
        "\n",
        "Los datos de los nombres de los paises de cada partido, presentan espacios en blanco al comienzo y al final."
      ],
      "metadata": {
        "id": "TS7SIfk-X5Mn"
      }
    },
    {
      "cell_type": "code",
      "source": [
        "# Limpio los nombres del equipo local\n",
        "df_fifa_worldcup_matches['home'] = df_fifa_worldcup_matches['home'].str.strip()\n",
        "# Limpio los nombres del equipo visitante\n",
        "df_fifa_worldcup_matches['away'] = df_fifa_worldcup_matches['away'].str.strip()"
      ],
      "metadata": {
        "id": "HZnKrc_jX7Bh"
      },
      "execution_count": null,
      "outputs": []
    },
    {
      "cell_type": "markdown",
      "source": [
        "***Limpiando los Datos del Df Fifa Worldcup Fixture.***\n",
        "\n",
        "Los datos de los nombres de los paises de cada partido, presentan espacios en blanco al comienzo y al final."
      ],
      "metadata": {
        "id": "1I5uMn4xKLOC"
      }
    },
    {
      "cell_type": "code",
      "source": [
        "# Limpio los nombres del equipo local\n",
        "df_fifa_worldcup_fixture['home'] = df_fifa_worldcup_fixture['home'].str.strip()\n",
        "# Limpio los nombres del equipo visitante\n",
        "df_fifa_worldcup_fixture['away'] = df_fifa_worldcup_fixture['away'].str.strip()"
      ],
      "metadata": {
        "id": "FWEWymhXKLjV"
      },
      "execution_count": null,
      "outputs": []
    },
    {
      "cell_type": "markdown",
      "source": [
        "***Limpiando los Datos del Df Fifa Worldcup Missing Data.***\n",
        "\n",
        "Algunas filas del df presentan valores nulos en las columnas *home*, *score* y *away*. Hay 64 partidos del 2010 tienen valores nulos en sus columnas."
      ],
      "metadata": {
        "id": "UYCtM-gAP64n"
      }
    },
    {
      "cell_type": "code",
      "source": [
        "df_fifa_worldcup_missing.info()"
      ],
      "metadata": {
        "colab": {
          "base_uri": "https://localhost:8080/"
        },
        "id": "0NMZOtNYKfxd",
        "outputId": "da9e5d21-4ec1-4665-bf59-36e4d657344e"
      },
      "execution_count": null,
      "outputs": [
        {
          "output_type": "stream",
          "name": "stdout",
          "text": [
            "<class 'pandas.core.frame.DataFrame'>\n",
            "RangeIndex: 508 entries, 0 to 507\n",
            "Data columns (total 4 columns):\n",
            " #   Column  Non-Null Count  Dtype \n",
            "---  ------  --------------  ----- \n",
            " 0   home    444 non-null    object\n",
            " 1   score   444 non-null    object\n",
            " 2   away    444 non-null    object\n",
            " 3   year    508 non-null    int64 \n",
            "dtypes: int64(1), object(3)\n",
            "memory usage: 16.0+ KB\n"
          ]
        }
      ]
    },
    {
      "cell_type": "code",
      "source": [
        "# Elimino las filas con valores Nulos del Df\n",
        "df_fifa_worldcup_missing.dropna(inplace=True)\n",
        "# Al igual que en el df que almacena los partidos, tambien posee espacios en \n",
        "# al comienzo y final del nombre.\n",
        "df_fifa_worldcup_missing['home'] = df_fifa_worldcup_missing['home'].str.strip()\n",
        "df_fifa_worldcup_missing['away'] = df_fifa_worldcup_missing['away'].str.strip()\n",
        "#df_fifa_worldcup_missing"
      ],
      "metadata": {
        "id": "g6fppR-bRAi9"
      },
      "execution_count": null,
      "outputs": []
    },
    {
      "cell_type": "markdown",
      "source": [
        "***Uniendo los Datos en un solo DataFrame***\n",
        "\n",
        "Todos los datos almacenados en **df_fifa_worldcup_matches** y **df_fifa_worldcup_missing**, se guardaran en un solo dataframe **df_fifa_worldcup_history**."
      ],
      "metadata": {
        "id": "uLt_4jZBVoXD"
      }
    },
    {
      "cell_type": "code",
      "source": [
        "# lista de df que se van a concatenar\n",
        "lista = [df_fifa_worldcup_matches,df_fifa_worldcup_missing]\n",
        "# concateno los Dataframes\n",
        "df_fifa_worldcup_history = pd.concat(lista, ignore_index=True)\n",
        "# Ordeno segun el año\n",
        "df_fifa_worldcup_history.sort_values('year', inplace=True)"
      ],
      "metadata": {
        "id": "rG3JymMYWrmq"
      },
      "execution_count": null,
      "outputs": []
    },
    {
      "cell_type": "markdown",
      "source": [
        "***Limpiando los Datos de df_fifa_worldcup_history***\n",
        "\n",
        "Eliminamos algunas filas (las repetidas y algunas especificas que no aportan información) y transformamos algunas columnas del df."
      ],
      "metadata": {
        "id": "sTqOu40Vjbga"
      }
    },
    {
      "cell_type": "code",
      "source": [
        "# Veo si hay valores duplicados\n",
        "any(df_fifa_worldcup_history.duplicated())"
      ],
      "metadata": {
        "colab": {
          "base_uri": "https://localhost:8080/"
        },
        "id": "CuPc2DuOkGbL",
        "outputId": "6e36ebe4-ab5e-4aff-f9ed-b1719e1ebc25"
      },
      "execution_count": null,
      "outputs": [
        {
          "output_type": "execute_result",
          "data": {
            "text/plain": [
              "False"
            ]
          },
          "metadata": {},
          "execution_count": 181
        }
      ]
    },
    {
      "cell_type": "code",
      "source": [
        "# Obtengo el registro del df del partido que no se jugo \n",
        "fila = df_fifa_worldcup_history[df_fifa_worldcup_history['score'].str.contains('[^[\\d-]]')]\n",
        "fila"
      ],
      "metadata": {
        "colab": {
          "base_uri": "https://localhost:8080/",
          "height": 81
        },
        "id": "HpUuBaFZklPY",
        "outputId": "1c906d3d-8a4e-4e9d-a026-59e3b6e48c4c"
      },
      "execution_count": null,
      "outputs": [
        {
          "output_type": "execute_result",
          "data": {
            "text/plain": [
              "      home   score     away  year\n",
              "37  Sweden  w/o[a]  Austria  1938"
            ],
            "text/html": [
              "\n",
              "  <div id=\"df-b655d5e2-3c74-47f3-9a92-14bddb40f100\">\n",
              "    <div class=\"colab-df-container\">\n",
              "      <div>\n",
              "<style scoped>\n",
              "    .dataframe tbody tr th:only-of-type {\n",
              "        vertical-align: middle;\n",
              "    }\n",
              "\n",
              "    .dataframe tbody tr th {\n",
              "        vertical-align: top;\n",
              "    }\n",
              "\n",
              "    .dataframe thead th {\n",
              "        text-align: right;\n",
              "    }\n",
              "</style>\n",
              "<table border=\"1\" class=\"dataframe\">\n",
              "  <thead>\n",
              "    <tr style=\"text-align: right;\">\n",
              "      <th></th>\n",
              "      <th>home</th>\n",
              "      <th>score</th>\n",
              "      <th>away</th>\n",
              "      <th>year</th>\n",
              "    </tr>\n",
              "  </thead>\n",
              "  <tbody>\n",
              "    <tr>\n",
              "      <th>37</th>\n",
              "      <td>Sweden</td>\n",
              "      <td>w/o[a]</td>\n",
              "      <td>Austria</td>\n",
              "      <td>1938</td>\n",
              "    </tr>\n",
              "  </tbody>\n",
              "</table>\n",
              "</div>\n",
              "      <button class=\"colab-df-convert\" onclick=\"convertToInteractive('df-b655d5e2-3c74-47f3-9a92-14bddb40f100')\"\n",
              "              title=\"Convert this dataframe to an interactive table.\"\n",
              "              style=\"display:none;\">\n",
              "        \n",
              "  <svg xmlns=\"http://www.w3.org/2000/svg\" height=\"24px\"viewBox=\"0 0 24 24\"\n",
              "       width=\"24px\">\n",
              "    <path d=\"M0 0h24v24H0V0z\" fill=\"none\"/>\n",
              "    <path d=\"M18.56 5.44l.94 2.06.94-2.06 2.06-.94-2.06-.94-.94-2.06-.94 2.06-2.06.94zm-11 1L8.5 8.5l.94-2.06 2.06-.94-2.06-.94L8.5 2.5l-.94 2.06-2.06.94zm10 10l.94 2.06.94-2.06 2.06-.94-2.06-.94-.94-2.06-.94 2.06-2.06.94z\"/><path d=\"M17.41 7.96l-1.37-1.37c-.4-.4-.92-.59-1.43-.59-.52 0-1.04.2-1.43.59L10.3 9.45l-7.72 7.72c-.78.78-.78 2.05 0 2.83L4 21.41c.39.39.9.59 1.41.59.51 0 1.02-.2 1.41-.59l7.78-7.78 2.81-2.81c.8-.78.8-2.07 0-2.86zM5.41 20L4 18.59l7.72-7.72 1.47 1.35L5.41 20z\"/>\n",
              "  </svg>\n",
              "      </button>\n",
              "      \n",
              "  <style>\n",
              "    .colab-df-container {\n",
              "      display:flex;\n",
              "      flex-wrap:wrap;\n",
              "      gap: 12px;\n",
              "    }\n",
              "\n",
              "    .colab-df-convert {\n",
              "      background-color: #E8F0FE;\n",
              "      border: none;\n",
              "      border-radius: 50%;\n",
              "      cursor: pointer;\n",
              "      display: none;\n",
              "      fill: #1967D2;\n",
              "      height: 32px;\n",
              "      padding: 0 0 0 0;\n",
              "      width: 32px;\n",
              "    }\n",
              "\n",
              "    .colab-df-convert:hover {\n",
              "      background-color: #E2EBFA;\n",
              "      box-shadow: 0px 1px 2px rgba(60, 64, 67, 0.3), 0px 1px 3px 1px rgba(60, 64, 67, 0.15);\n",
              "      fill: #174EA6;\n",
              "    }\n",
              "\n",
              "    [theme=dark] .colab-df-convert {\n",
              "      background-color: #3B4455;\n",
              "      fill: #D2E3FC;\n",
              "    }\n",
              "\n",
              "    [theme=dark] .colab-df-convert:hover {\n",
              "      background-color: #434B5C;\n",
              "      box-shadow: 0px 1px 3px 1px rgba(0, 0, 0, 0.15);\n",
              "      filter: drop-shadow(0px 1px 2px rgba(0, 0, 0, 0.3));\n",
              "      fill: #FFFFFF;\n",
              "    }\n",
              "  </style>\n",
              "\n",
              "      <script>\n",
              "        const buttonEl =\n",
              "          document.querySelector('#df-b655d5e2-3c74-47f3-9a92-14bddb40f100 button.colab-df-convert');\n",
              "        buttonEl.style.display =\n",
              "          google.colab.kernel.accessAllowed ? 'block' : 'none';\n",
              "\n",
              "        async function convertToInteractive(key) {\n",
              "          const element = document.querySelector('#df-b655d5e2-3c74-47f3-9a92-14bddb40f100');\n",
              "          const dataTable =\n",
              "            await google.colab.kernel.invokeFunction('convertToInteractive',\n",
              "                                                     [key], {});\n",
              "          if (!dataTable) return;\n",
              "\n",
              "          const docLinkHtml = 'Like what you see? Visit the ' +\n",
              "            '<a target=\"_blank\" href=https://colab.research.google.com/notebooks/data_table.ipynb>data table notebook</a>'\n",
              "            + ' to learn more about interactive tables.';\n",
              "          element.innerHTML = '';\n",
              "          dataTable['output_type'] = 'display_data';\n",
              "          await google.colab.output.renderOutput(dataTable, element);\n",
              "          const docLink = document.createElement('div');\n",
              "          docLink.innerHTML = docLinkHtml;\n",
              "          element.appendChild(docLink);\n",
              "        }\n",
              "      </script>\n",
              "    </div>\n",
              "  </div>\n",
              "  "
            ]
          },
          "metadata": {},
          "execution_count": 182
        }
      ]
    },
    {
      "cell_type": "code",
      "source": [
        "# Obtengo su indice\n",
        "indice = fila.index\n",
        "indice"
      ],
      "metadata": {
        "colab": {
          "base_uri": "https://localhost:8080/"
        },
        "id": "5fxAY3Fmlakf",
        "outputId": "3fec141b-c47f-4181-fd80-a146eb76b9b8"
      },
      "execution_count": null,
      "outputs": [
        {
          "output_type": "execute_result",
          "data": {
            "text/plain": [
              "Int64Index([37], dtype='int64')"
            ]
          },
          "metadata": {},
          "execution_count": 183
        }
      ]
    },
    {
      "cell_type": "code",
      "source": [
        "# Elimino el registro con ese Indice\n",
        "df_fifa_worldcup_history.drop(index = indice, inplace=True)"
      ],
      "metadata": {
        "id": "4J199bz5lfCV"
      },
      "execution_count": null,
      "outputs": []
    },
    {
      "cell_type": "code",
      "source": [
        "# Modifico los valores de la columna score, eliminando cualquier caracter que no sean digitos o '-'\n",
        "df_fifa_worldcup_history['score'] = df_fifa_worldcup_history['score'].str.replace('[^[0-9\\-]]','',regex=True)\n",
        "df_fifa_worldcup_history['score'] = df_fifa_worldcup_history['score'].str.replace('[a-z\\.\\(\\)]','',regex=True)"
      ],
      "metadata": {
        "id": "r2eg1jAappaR"
      },
      "execution_count": null,
      "outputs": []
    },
    {
      "cell_type": "code",
      "source": [
        "# Separo los valores de los goles que marco cada equipo\n",
        "df_fifa_worldcup_history[['HomeGoals','AwayGoals']] = df_fifa_worldcup_history['score'].str.split('–',expand=True)"
      ],
      "metadata": {
        "id": "-mQkBmQarqDz"
      },
      "execution_count": null,
      "outputs": []
    },
    {
      "cell_type": "code",
      "source": [
        "# Elimino la columna score, ya que no tiene sentido conservarlo\n",
        "df_fifa_worldcup_history.drop('score',axis=1, inplace=True)"
      ],
      "metadata": {
        "id": "lECFx6SR2Iks"
      },
      "execution_count": null,
      "outputs": []
    },
    {
      "cell_type": "code",
      "source": [
        "# Renombro las columnas home, away y year del df\n",
        "columnas = {'home':'HomeTeam','away':'AwayTeam','year':'Year'}\n",
        "df_fifa_worldcup_history.rename(columns=columnas, inplace=True)"
      ],
      "metadata": {
        "id": "r_lXBWxC21z-"
      },
      "execution_count": null,
      "outputs": []
    },
    {
      "cell_type": "code",
      "source": [
        "# Comprobando los tipos de los Datos del Df\n",
        "df_fifa_worldcup_history.dtypes"
      ],
      "metadata": {
        "colab": {
          "base_uri": "https://localhost:8080/"
        },
        "id": "pMuoBgeC4FDw",
        "outputId": "a3c4c2de-0afb-43e6-e77a-4d4707ca19cd"
      },
      "execution_count": null,
      "outputs": [
        {
          "output_type": "execute_result",
          "data": {
            "text/plain": [
              "HomeTeam     object\n",
              "AwayTeam     object\n",
              "Year          int64\n",
              "HomeGoals    object\n",
              "AwayGoals    object\n",
              "dtype: object"
            ]
          },
          "metadata": {},
          "execution_count": 189
        }
      ]
    },
    {
      "cell_type": "code",
      "source": [
        "# Modificamos los tipos de datos de las columnas del df\n",
        "cambios_tipo = {'HomeTeam':str,'AwayTeam':str,'Year':int,'HomeGoals':int,'AwayGoals':int}\n",
        "df_fifa_worldcup_history = df_fifa_worldcup_history.astype(cambios_tipo)"
      ],
      "metadata": {
        "id": "9jkaMsy_6pDB"
      },
      "execution_count": null,
      "outputs": []
    },
    {
      "cell_type": "code",
      "source": [
        "# Verifico que los tipos concuerdan con las modificaciones\n",
        "df_fifa_worldcup_history.dtypes"
      ],
      "metadata": {
        "colab": {
          "base_uri": "https://localhost:8080/"
        },
        "id": "71QdipDn8Dvw",
        "outputId": "d65c50ed-ee48-42d0-bcc7-ef328259f905"
      },
      "execution_count": null,
      "outputs": [
        {
          "output_type": "execute_result",
          "data": {
            "text/plain": [
              "HomeTeam     object\n",
              "AwayTeam     object\n",
              "Year          int64\n",
              "HomeGoals     int64\n",
              "AwayGoals     int64\n",
              "dtype: object"
            ]
          },
          "metadata": {},
          "execution_count": 194
        }
      ]
    },
    {
      "cell_type": "markdown",
      "source": [
        "***Por ultimo guardamos la Informacion***\n",
        "\n",
        "Guardamos los datasets con los Datos que limpiamos, **df_fifa_worldcup_history** y **df_fifa_worldcup_fixture**."
      ],
      "metadata": {
        "id": "7nqfKb5fAFk2"
      }
    },
    {
      "cell_type": "code",
      "source": [
        "# Guardo los datos que se limpiaron\n",
        "df_fifa_worldcup_history.to_csv('clean_fifa_worldcup_history.csv',index=False)\n",
        "df_fifa_worldcup_fixture.to_csv('clean_fifa_worldcup_fixture.csv',index=False)"
      ],
      "metadata": {
        "id": "_DZxv7VY1k3c"
      },
      "execution_count": null,
      "outputs": []
    },
    {
      "cell_type": "code",
      "source": [],
      "metadata": {
        "id": "2Jaj9CSR_00L"
      },
      "execution_count": null,
      "outputs": []
    }
  ]
}